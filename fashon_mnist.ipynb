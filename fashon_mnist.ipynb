{
  "nbformat": 4,
  "nbformat_minor": 0,
  "metadata": {
    "colab": {
      "name": "fashon_mnist.ipynb",
      "provenance": [],
      "collapsed_sections": [],
      "authorship_tag": "ABX9TyNYQPhDzI85az2gGysab0xy",
      "include_colab_link": true
    },
    "kernelspec": {
      "name": "python3",
      "display_name": "Python 3"
    }
  },
  "cells": [
    {
      "cell_type": "markdown",
      "metadata": {
        "id": "view-in-github",
        "colab_type": "text"
      },
      "source": [
        "<a href=\"https://colab.research.google.com/github/Naveenprasad59/fashion_mnist/blob/master/fashon_mnist.ipynb\" target=\"_parent\"><img src=\"https://colab.research.google.com/assets/colab-badge.svg\" alt=\"Open In Colab\"/></a>"
      ]
    },
    {
      "cell_type": "markdown",
      "metadata": {
        "id": "xCQ7atoSBx5W",
        "colab_type": "text"
      },
      "source": [
        "# **Fashion_mnist **:Find the type of cloth in the image"
      ]
    },
    {
      "cell_type": "markdown",
      "metadata": {
        "id": "DdNmqyKACJLn",
        "colab_type": "text"
      },
      "source": [
        "\n",
        "\n",
        "*   **Importing all the required libraries**\n",
        "\n",
        "*   **Give the items in the images in the list named class_names**\n",
        "\n",
        "\n",
        "\n",
        "\n"
      ]
    },
    {
      "cell_type": "code",
      "metadata": {
        "id": "q2JNt8a25p7k",
        "colab_type": "code",
        "colab": {}
      },
      "source": [
        "import tensorflow as tf\n",
        "from tensorflow import keras\n",
        "import numpy as np\n",
        "import matplotlib.pyplot as plt\n",
        "import pandas\n",
        "from sklearn.metrics import accuracy_score\n",
        "class_names = ['T-shirt/top', 'Trouser', 'Pullover', 'Dress', 'Coat',\n",
        "               'Sandal', 'Shirt', 'Sneaker', 'Bag', 'Ankle boot']"
      ],
      "execution_count": 0,
      "outputs": []
    },
    {
      "cell_type": "markdown",
      "metadata": {
        "id": "zukzmi9SCz2Q",
        "colab_type": "text"
      },
      "source": [
        "\n",
        "\n",
        "1.   import the dataset from keras\n",
        "2.   And we normalize the test and train images inorder to imporve the performance of the neural network \n",
        "\n"
      ]
    },
    {
      "cell_type": "code",
      "metadata": {
        "id": "MTBxQxFf538J",
        "colab_type": "code",
        "outputId": "b3c4b3b6-9e9f-4c6a-e217-aacc31933243",
        "colab": {
          "base_uri": "https://localhost:8080/",
          "height": 34
        }
      },
      "source": [
        "data = keras.datasets.fashion_mnist\n",
        "(train_images,train_labels),(test_images,test_labels)=data.load_data()\n",
        "print(train_images.shape)\n"
      ],
      "execution_count": 32,
      "outputs": [
        {
          "output_type": "stream",
          "text": [
            "(60000, 28, 28)\n"
          ],
          "name": "stdout"
        }
      ]
    },
    {
      "cell_type": "code",
      "metadata": {
        "id": "-rcYGs8y56AM",
        "colab_type": "code",
        "outputId": "ec878ad9-84f1-406b-dc43-bd2befeb64e5",
        "colab": {
          "base_uri": "https://localhost:8080/",
          "height": 52
        }
      },
      "source": [
        "train_images=train_images/255.0\n",
        "test_images=test_images/255.0\n",
        "print(train_images.shape)\n",
        "print(train_labels)"
      ],
      "execution_count": 33,
      "outputs": [
        {
          "output_type": "stream",
          "text": [
            "(60000, 28, 28)\n",
            "[9 0 0 ... 3 0 5]\n"
          ],
          "name": "stdout"
        }
      ]
    },
    {
      "cell_type": "markdown",
      "metadata": {
        "id": "xLFtjAaKDSxJ",
        "colab_type": "text"
      },
      "source": [
        "Create the Neural Network of three layers (input layer,hiddenlayer,output layer)"
      ]
    },
    {
      "cell_type": "code",
      "metadata": {
        "id": "OIsDuouX57yL",
        "colab_type": "code",
        "colab": {}
      },
      "source": [
        "model=keras.Sequential(\n",
        "    [\n",
        "     keras.layers.Flatten(input_shape=(28,28)),\n",
        "     keras.layers.Dense(128,activation='relu'),\n",
        "     keras.layers.Dense(10,activation='softmax'),\n",
        "    ]\n",
        ")"
      ],
      "execution_count": 0,
      "outputs": []
    },
    {
      "cell_type": "code",
      "metadata": {
        "id": "VCb6K_Dp590u",
        "colab_type": "code",
        "colab": {}
      },
      "source": [
        "model.compile(optimizer='adam',loss='sparse_categorical_crossentropy',metrics=['accuracy'])"
      ],
      "execution_count": 0,
      "outputs": []
    },
    {
      "cell_type": "markdown",
      "metadata": {
        "id": "Q7JLagNSDf5H",
        "colab_type": "text"
      },
      "source": [
        "Train the model with the train data "
      ]
    },
    {
      "cell_type": "code",
      "metadata": {
        "id": "updmYUJV6AKS",
        "colab_type": "code",
        "outputId": "6c22318e-ec58-4490-e9ce-0ffc6ab0a44f",
        "colab": {
          "base_uri": "https://localhost:8080/",
          "height": 212
        }
      },
      "source": [
        "model.fit(train_images,train_labels,epochs=5)"
      ],
      "execution_count": 36,
      "outputs": [
        {
          "output_type": "stream",
          "text": [
            "Epoch 1/5\n",
            "1875/1875 [==============================] - 4s 2ms/step - loss: 1.0980 - accuracy: 0.6587\n",
            "Epoch 2/5\n",
            "1875/1875 [==============================] - 4s 2ms/step - loss: 0.6457 - accuracy: 0.7680\n",
            "Epoch 3/5\n",
            "1875/1875 [==============================] - 4s 2ms/step - loss: 0.5673 - accuracy: 0.7969\n",
            "Epoch 4/5\n",
            "1875/1875 [==============================] - 4s 2ms/step - loss: 0.5244 - accuracy: 0.8139\n",
            "Epoch 5/5\n",
            "1875/1875 [==============================] - 4s 2ms/step - loss: 0.4965 - accuracy: 0.8244\n"
          ],
          "name": "stdout"
        },
        {
          "output_type": "execute_result",
          "data": {
            "text/plain": [
              "<tensorflow.python.keras.callbacks.History at 0x7fddc46eeb00>"
            ]
          },
          "metadata": {
            "tags": []
          },
          "execution_count": 36
        }
      ]
    },
    {
      "cell_type": "code",
      "metadata": {
        "id": "xMPM9Yjf6CNT",
        "colab_type": "code",
        "outputId": "0b016327-df95-4691-8879-588b31accffd",
        "colab": {
          "base_uri": "https://localhost:8080/",
          "height": 34
        }
      },
      "source": [
        "test_loss,test_acc=model.evaluate(test_images,test_labels)"
      ],
      "execution_count": 37,
      "outputs": [
        {
          "output_type": "stream",
          "text": [
            "313/313 [==============================] - 0s 1ms/step - loss: 0.5111 - accuracy: 0.8158\n"
          ],
          "name": "stdout"
        }
      ]
    },
    {
      "cell_type": "markdown",
      "metadata": {
        "id": "lmXMIm3RDoJ0",
        "colab_type": "text"
      },
      "source": [
        "Prediction: "
      ]
    },
    {
      "cell_type": "code",
      "metadata": {
        "id": "OGg5UxKP6F7I",
        "colab_type": "code",
        "outputId": "d1409ab9-99cf-47b8-c228-9dc515f50097",
        "colab": {
          "base_uri": "https://localhost:8080/",
          "height": 34
        }
      },
      "source": [
        "predict=model.predict(test_images)\n",
        "\n",
        "print(class_names[np.argmax(predict[5])])"
      ],
      "execution_count": 38,
      "outputs": [
        {
          "output_type": "stream",
          "text": [
            "Trouser\n"
          ],
          "name": "stdout"
        }
      ]
    },
    {
      "cell_type": "code",
      "metadata": {
        "id": "328T8lVz6Ggw",
        "colab_type": "code",
        "outputId": "07ca60d3-8820-47a7-eeaf-8a40c5b07cd0",
        "colab": {
          "base_uri": "https://localhost:8080/",
          "height": 1000
        }
      },
      "source": [
        "for i in range(5):\n",
        "  plt.grid()\n",
        " \n",
        "  plt.imshow(test_images[i])\n",
        " \n",
        "  plt.xlabel('Predicted:'+ class_names[np.argmax(predict[i])])\n",
        "  plt.title('Actual:'+class_names[test_labels[i]])\n",
        "  plt.show()"
      ],
      "execution_count": 41,
      "outputs": [
        {
          "output_type": "display_data",
          "data": {
            "image/png": "[encoded data removed]",
            "text/plain": [
              "<Figure size 432x288 with 1 Axes>"
            ]
          },
          "metadata": {
            "tags": []
          }
        },
        {
          "output_type": "display_data",
          "data": {
            "image/png": "[encoded data removed]",
            "text/plain": [
              "<Figure size 432x288 with 1 Axes>"
            ]
          },
          "metadata": {
            "tags": []
          }
        },
        {
          "output_type": "display_data",
          "data": {
            "image/png": "[encoded data removed]",
            "text/plain": [
              "<Figure size 432x288 with 1 Axes>"
            ]
          },
          "metadata": {
            "tags": []
          }
        },
        {
          "output_type": "display_data",
          "data": {
            "image/png": "[encoded data removed]",
            "text/plain": [
              "<Figure size 432x288 with 1 Axes>"
            ]
          },
          "metadata": {
            "tags": []
          }
        },
        {
          "output_type": "display_data",
          "data": {
            "image/png": "[encoded data removed]",
            "text/plain": [
              "<Figure size 432x288 with 1 Axes>"
            ]
          },
          "metadata": {
            "tags": []
          }
        }
      ]
    },
    {
      "cell_type": "code",
      "metadata": {
        "id": "Bn09bGmyP_59",
        "colab_type": "code",
        "colab": {}
      },
      "source": [
        ""
      ],
      "execution_count": 0,
      "outputs": []
    }
  ]
}